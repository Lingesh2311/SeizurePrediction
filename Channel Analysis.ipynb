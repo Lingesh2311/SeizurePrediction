{
 "cells": [
  {
   "cell_type": "markdown",
   "metadata": {},
   "source": [
    "## Analysis and Selection of Channels\n",
    "Currently using the EEG data from 6 different patients this notebook focusses on creating an Excel file with patient details, number of channels used and which channels are of importance for the Right temporal lobe epilepsy detection. The code generates a `Channelnames.xlsx` which can be prettified to get the important and common channels for prediction and analysis.  "
   ]
  },
  {
   "cell_type": "code",
   "execution_count": 1,
   "metadata": {},
   "outputs": [],
   "source": [
    "import mne\n",
    "import os\n",
    "import xlsxwriter \n",
    "\n",
    "mne.set_log_level('WARNING')\n",
    "\n",
    "import warnings\n",
    "warnings.filterwarnings(\"ignore\")"
   ]
  },
  {
   "cell_type": "code",
   "execution_count": 7,
   "metadata": {},
   "outputs": [],
   "source": [
    "def read_edf():\n",
    "    '''\n",
    "    Reads the edf files from the data folder\n",
    "    '''\n",
    "    path = os.getcwd() + '\\\\data\\\\'\n",
    "    files = []\n",
    "    print(\"Reading files...\")\n",
    "    for f in os.listdir(path):\n",
    "        files.append(mne.io.read_raw_edf(path+f))\n",
    "        print(f\"Reading {f} now..\")\n",
    "    print('Reading successfully completed!')\n",
    "    return files\n",
    "\n",
    "\n",
    "def get_info(files):\n",
    "    '''\n",
    "    Gets the info from the patients and displays it\n",
    "    '''\n",
    "    for index, item in enumerate(files):\n",
    "        print(f\"> Record Information of patient {index+1}:\\n{item.info}\")\n",
    "        print(\"-\"*40)\n",
    "    print('Information generated!')\n",
    "    return True\n",
    "\n",
    "\n",
    "def get_channel_names(files):\n",
    "    '''\n",
    "    Writes the Number of channels and the Channel details to the Excel Workbook\n",
    "    '''\n",
    "    row = 0\n",
    "    column = 0\n",
    "    workbook = xlsxwriter.Workbook('Channelnames.xlsx')\n",
    "    worksheet = workbook.add_worksheet(\"Names of Channels\")    \n",
    "    for index, item in enumerate(files):\n",
    "        worksheet.write(row, column, \"Patient \"+str(index+1))\n",
    "        worksheet.write(row, column+1, len(item.info['chs']))\n",
    "        l = 1\n",
    "        while(l < len(item.info['chs'])+1):\n",
    "            worksheet.write(row, column+l+1, item.info['ch_names'][l-1])\n",
    "            l += 1\n",
    "        row += 1\n",
    "    workbook.close()\n",
    "    print('Writing Channel Names Complete!')\n",
    "    return True"
   ]
  },
  {
   "cell_type": "code",
   "execution_count": null,
   "metadata": {},
   "outputs": [],
   "source": [
    "files = read_edf() \n",
    "get_info(files)\n",
    "get_channel_names(files)"
   ]
  }
 ],
 "metadata": {
  "kernelspec": {
   "display_name": "Python 3",
   "language": "python",
   "name": "python3"
  },
  "language_info": {
   "codemirror_mode": {
    "name": "ipython",
    "version": 3
   },
   "file_extension": ".py",
   "mimetype": "text/x-python",
   "name": "python",
   "nbconvert_exporter": "python",
   "pygments_lexer": "ipython3",
   "version": "3.7.3"
  }
 },
 "nbformat": 4,
 "nbformat_minor": 2
}

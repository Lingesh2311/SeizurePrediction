{
 "cells": [
  {
   "cell_type": "markdown",
   "metadata": {},
   "source": [
    "## Using PyEDF library for Tabular data generation\n",
    "The Pyedf reader can be used to create an object that is capable of reading the EDF files and creating a dataframe of channels with each sample representing a column and the rows being the different channels in the multichannel data. This dataframe can be transposed to create a `n-channel` number of columns with `number of samples` number of rows dataframe. This can be compared to see the uniformity in the dataset.  "
   ]
  },
  {
   "cell_type": "code",
   "execution_count": null,
   "metadata": {},
   "outputs": [],
   "source": [
    "import pyedflib\n",
    "import numpy as np\n",
    "import pandas as pd\n",
    "import os\n",
    "\n",
    "import warnings \n",
    "warnings.filterwarnings(\"ignore\")"
   ]
  },
  {
   "cell_type": "code",
   "execution_count": null,
   "metadata": {},
   "outputs": [],
   "source": [
    "def read_edf():\n",
    "    '''\n",
    "    Reads the edf files from the data folder\n",
    "    '''\n",
    "    path = os.getcwd() + '\\\\data\\\\'\n",
    "    files = []\n",
    "    print(\"Reading files...\")\n",
    "    for f in os.listdir(path):\n",
    "        files.append(pyedflib.EdfReader(path+f))\n",
    "        print(f\"Reading {f} now..\")\n",
    "    print('Reading successfully completed!')\n",
    "    return files\n",
    "\n",
    "\n",
    "def get_shape(files):\n",
    "    '''\n",
    "    Gives the number of samples in the EEG data\n",
    "    '''\n",
    "    for index, f in enumerate(files):\n",
    "        n = f.signals_in_file\n",
    "        signal_labels = f.getSignalLabels()\n",
    "        sigbufs = np.zeros((n, f.getNSamples()[0]))\n",
    "        for i in np.arange(n):\n",
    "            sigbufs[i, :] = f.readSignal(i)\n",
    "        print(f'Number of samples in EEG data of patient {index+1}: {sigbufs.shape[1]}')\n",
    "    return (\"Completed Reading\")\n",
    "\n",
    "\n",
    "def show_frame(files):\n",
    "    '''\n",
    "    Displays the dataframe version and describes the data for each patient\n",
    "    '''\n",
    "    for index, f in enumerate(files):\n",
    "        print(f'Patient {index+1}: ')\n",
    "        n = f.signals_in_file\n",
    "        signal_labels = f.getSignalLabels()\n",
    "        sigbufs = np.zeros((n, f.getNSamples()[0]))\n",
    "        df = pd.DataFrame(sigbufs, index = signal_labels)\n",
    "        df_transpose = df.transpose()\n",
    "        print(df_transpose.head(4))\n",
    "        print(\"-----------------------------\"*2)\n",
    "        print(df_transpose.info())\n",
    "        print(\"-----------------------------\"*2)\n",
    "        print(df_transpose.describe())\n",
    "        print(\"-----------------------------\"*2)\n",
    "    return \"All frames displayed!\""
   ]
  },
  {
   "cell_type": "code",
   "execution_count": null,
   "metadata": {},
   "outputs": [],
   "source": [
    "files = read_edf()"
   ]
  },
  {
   "cell_type": "code",
   "execution_count": null,
   "metadata": {},
   "outputs": [],
   "source": [
    "get_shape(files)"
   ]
  },
  {
   "cell_type": "code",
   "execution_count": null,
   "metadata": {},
   "outputs": [],
   "source": [
    "show_frame(files)"
   ]
  }
 ],
 "metadata": {
  "kernelspec": {
   "display_name": "Python 3",
   "language": "python",
   "name": "python3"
  },
  "language_info": {
   "codemirror_mode": {
    "name": "ipython",
    "version": 3
   },
   "file_extension": ".py",
   "mimetype": "text/x-python",
   "name": "python",
   "nbconvert_exporter": "python",
   "pygments_lexer": "ipython3",
   "version": "3.7.3"
  }
 },
 "nbformat": 4,
 "nbformat_minor": 2
}
